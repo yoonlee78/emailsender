{
 "cells": [
  {
   "cell_type": "code",
   "execution_count": 4,
   "metadata": {},
   "outputs": [],
   "source": [
    "import smtplib\n",
    "from email.message import EmailMessage"
   ]
  },
  {
   "cell_type": "code",
   "execution_count": 5,
   "metadata": {},
   "outputs": [],
   "source": [
    "smtp_gmail = smtplib.SMTP('smtp.gmail.com', 587)"
   ]
  },
  {
   "cell_type": "code",
   "execution_count": 6,
   "metadata": {},
   "outputs": [
    {
     "data": {
      "text/plain": [
       "(235, b'2.7.0 Accepted')"
      ]
     },
     "execution_count": 6,
     "metadata": {},
     "output_type": "execute_result"
    }
   ],
   "source": [
    "#서버 연결 설정\n",
    "smtp_gmail.ehlo()\n",
    "\n",
    "#서버 연결 암호화\n",
    "smtp_gmail.starttls()\n",
    "\n",
    "#로그인\n",
    "smtp_gmail.login('이메일@gmail.com','AppPassword') #AppPassword가 없다면 myaccount.google.com/apppassword로 가서 2-step 인증을 통해 부여받아야한다. "
   ]
  },
  {
   "cell_type": "markdown",
   "metadata": {},
   "source": [
    "로그인이 성공했다면 '235, b'2.7.0 Accepted' 라는 메세지가 뜬다.\n",
    "\n",
    "로그인시 에러가 발생한다면 보안 허용이 낮은 수준으로 되지 않은 경우이다.  'smtplib.SMTPAuthenticationError: (534~'와 같은 오류 메세지가 뜬다.\n",
    "\n",
    "https://myaccount.google.com/lesssecureapps 의 <보안수준이 낮은 앱>에서 \"보안 수준이 낮은 앱 허용\"이 \"사용\"으로 바꾸면 된다. \n"
   ]
  },
  {
   "cell_type": "code",
   "execution_count": 8,
   "metadata": {},
   "outputs": [
    {
     "data": {
      "text/plain": [
       "{}"
      ]
     },
     "execution_count": 8,
     "metadata": {},
     "output_type": "execute_result"
    }
   ],
   "source": [
    "msg = EmailMessage()\n",
    "\n",
    "msg['Subject'] = \"안녕\" #제목 입력\n",
    "\n",
    "msg.set_content(\"이거 파이썬으로 보낸거야 (smtplib)\") #내용 입력\n",
    "\n",
    "msg['From'] = '보내는이@gmail.com'#보내는 사람\n",
    "\n",
    "msg['To'] = '받는이@gmail.com' #받는 사람\n",
    "\n",
    "smtp_gmail.send_message(msg)"
   ]
  },
  {
   "cell_type": "code",
   "execution_count": null,
   "metadata": {},
   "outputs": [],
   "source": []
  }
 ],
 "metadata": {
  "kernelspec": {
   "display_name": "Python 3",
   "language": "python",
   "name": "python3"
  },
  "language_info": {
   "codemirror_mode": {
    "name": "ipython",
    "version": 3
   },
   "file_extension": ".py",
   "mimetype": "text/x-python",
   "name": "python",
   "nbconvert_exporter": "python",
   "pygments_lexer": "ipython3",
   "version": "3.6.8"
  }
 },
 "nbformat": 4,
 "nbformat_minor": 2
}
